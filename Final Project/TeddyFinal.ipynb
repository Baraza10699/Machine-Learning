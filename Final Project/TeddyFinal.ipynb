{
 "cells": [
  {
   "attachments": {},
   "cell_type": "markdown",
   "metadata": {},
   "source": [
    "## Bitcoin Price Prediction Models"
   ]
  },
  {
   "attachments": {},
   "cell_type": "markdown",
   "metadata": {},
   "source": [
    "Our goal in this project is to attempt to predict bitcoin prices using historical data.\n",
    "We will use several regression models to predict prices using data on bitcoin supply and demand. Patterns detected will be used to inform our price prediction model. A dataset. spanning from 2010-2017 will be used. Data from the eight years will provide enough data to identify and access patterns. Testing will be done by comparing the accuracy of the predicted on the different models. \n",
    "Applied Models:\n",
    "Random Forest\n",
    "Linear Regression Model\n",
    "Support Vector Machine Model\n",
    "XGB Regressor Model\n",
    "\n",
    "The Mean Absolute Error value will be used to assess our models. The lower the MAE value, the closer it is to the predicted price.\n"
   ]
  },
  {
   "cell_type": "code",
   "execution_count": 127,
   "metadata": {},
   "outputs": [
    {
     "data": {
      "text/plain": [
       "<bound method NDFrame.head of            Date  btc_market_price  btc_total_bitcoins  btc_market_cap  \\\n",
       "0    2010-02-23          0.000000           2110700.0    0.000000e+00   \n",
       "1    2010-02-24          0.000000           2120200.0    0.000000e+00   \n",
       "2    2010-02-25          0.000000           2127600.0    0.000000e+00   \n",
       "3    2010-02-26          0.000000           2136100.0    0.000000e+00   \n",
       "4    2010-02-27          0.000000           2144750.0    0.000000e+00   \n",
       "...         ...               ...                 ...             ...   \n",
       "2915 2018-02-16      10127.161667          16869150.0    1.708366e+11   \n",
       "2916 2018-02-17      10841.991667          16871012.5    1.829154e+11   \n",
       "2917 2018-02-18      10503.298333          16873037.5    1.772225e+11   \n",
       "2918 2018-02-19      11110.965000          16875062.5    1.874982e+11   \n",
       "2919 2018-02-20      11390.391667          16876825.0    1.922336e+11   \n",
       "\n",
       "      btc_trade_volume  btc_blocks_size  btc_avg_block_size  \\\n",
       "0         0.000000e+00         0.000000            0.000216   \n",
       "1         0.000000e+00         0.000000            0.000282   \n",
       "2         0.000000e+00         0.000000            0.000227   \n",
       "3         0.000000e+00         0.000000            0.000319   \n",
       "4         0.000000e+00         0.000000            0.000223   \n",
       "...                ...              ...                 ...   \n",
       "2915      8.665020e+08    157056.833478            0.989634   \n",
       "2916      9.735543e+08    157201.813038            0.973017   \n",
       "2917      1.377347e+09    157359.401239            0.972767   \n",
       "2918      1.020589e+09    157522.467859            1.006584   \n",
       "2919      1.258473e+09    157664.996336            1.010840   \n",
       "\n",
       "      btc_n_orphaned_blocks  btc_n_transactions_per_block  \\\n",
       "0                       0.0                      1.000000   \n",
       "1                       0.0                      1.000000   \n",
       "2                       0.0                      1.000000   \n",
       "3                       0.0                      1.000000   \n",
       "4                       0.0                      1.000000   \n",
       "...                     ...                           ...   \n",
       "2915                    0.0                   1195.783439   \n",
       "2916                    0.0                   1166.369128   \n",
       "2917                    0.0                    984.537037   \n",
       "2918                    0.0                   1156.586420   \n",
       "2919                    0.0                   1407.482270   \n",
       "\n",
       "      btc_median_confirmation_time  ...  btc_cost_per_transaction_percent  \\\n",
       "0                         0.000000  ...                      25100.000000   \n",
       "1                         0.000000  ...                        179.245283   \n",
       "2                         0.000000  ...                       1057.142857   \n",
       "3                         0.000000  ...                         64.582059   \n",
       "4                         0.000000  ...                       1922.222222   \n",
       "...                            ...  ...                               ...   \n",
       "2915                      6.616667  ...                          1.893340   \n",
       "2916                      7.933333  ...                          2.362525   \n",
       "2917                      6.966667  ...                          2.598018   \n",
       "2918                      8.416667  ...                          2.006207   \n",
       "2919                      8.466667  ...                          1.391617   \n",
       "\n",
       "      btc_cost_per_transaction  btc_n_unique_addresses  btc_n_transactions  \\\n",
       "0                     0.000000                   252.0               252.0   \n",
       "1                     0.000000                   195.0               196.0   \n",
       "2                     0.000000                   150.0               150.0   \n",
       "3                     0.000000                   176.0               176.0   \n",
       "4                     0.000000                   176.0               176.0   \n",
       "...                        ...                     ...                 ...   \n",
       "2915                109.005818                422415.0            187738.0   \n",
       "2916                119.228205                401860.0            173789.0   \n",
       "2917                136.289229                378869.0            159495.0   \n",
       "2918                123.102480                436341.0            187367.0   \n",
       "2919                104.157082                455116.0            198455.0   \n",
       "\n",
       "      btc_n_transactions_total  btc_n_transactions_excluding_popular  \\\n",
       "0                      42613.0                                 252.0   \n",
       "1                      42809.0                                 196.0   \n",
       "2                      42959.0                                 150.0   \n",
       "3                      43135.0                                 176.0   \n",
       "4                      43311.0                                 176.0   \n",
       "...                        ...                                   ...   \n",
       "2915               299857526.0                              180685.0   \n",
       "2916               300031315.0                              167847.0   \n",
       "2917               300190810.0                              153951.0   \n",
       "2918               300378177.0                              181922.0   \n",
       "2919               300576632.0                              191891.0   \n",
       "\n",
       "      btc_n_transactions_excluding_chains_longer_than_100  btc_output_volume  \\\n",
       "0                                                 252.0         1.260000e+04   \n",
       "1                                                 196.0         1.480000e+04   \n",
       "2                                                 150.0         8.100000e+03   \n",
       "3                                                 176.0         2.934900e+04   \n",
       "4                                                 176.0         9.101000e+03   \n",
       "...                                                 ...                  ...   \n",
       "2915                                           126413.0         1.102896e+06   \n",
       "2916                                           122775.0         1.473900e+06   \n",
       "2917                                           113528.0         1.639024e+06   \n",
       "2918                                           135051.0         1.789526e+06   \n",
       "2919                                           139951.0         1.268018e+06   \n",
       "\n",
       "      btc_estimated_transaction_volume  btc_estimated_transaction_volume_usd  \n",
       "0                            50.000000                          0.000000e+00  \n",
       "1                          5300.000000                          0.000000e+00  \n",
       "2                           700.000000                          0.000000e+00  \n",
       "3                         13162.000000                          0.000000e+00  \n",
       "4                           450.000000                          0.000000e+00  \n",
       "...                                ...                                   ...  \n",
       "2915                     106729.749001                          1.080869e+09  \n",
       "2916                      80893.896177                          8.770509e+08  \n",
       "2917                      79660.081975                          8.366936e+08  \n",
       "2918                     103474.270242                          1.149699e+09  \n",
       "2919                     130404.455959                          1.485358e+09  \n",
       "\n",
       "[2920 rows x 24 columns]>"
      ]
     },
     "execution_count": 127,
     "metadata": {},
     "output_type": "execute_result"
    }
   ],
   "source": [
    "import pandas as pd\n",
    "import os\n",
    "df = pd.read_csv(\"bitcoin_dataset.csv\", parse_dates=['Date'])\n",
    "df.shape\n",
    "df.head"
   ]
  },
  {
   "cell_type": "markdown",
   "metadata": {},
   "source": [
    "# Factors affecting bitcoin price\n",
    "\n",
    "1.Number of available bitcoins.\n",
    "\n",
    "2.Difficulty to find new bitcoin.\n",
    "\n",
    "3.Number of unique bitcoin addresses.\n",
    "\n",
    "4.Value of bitcoin rewards."
   ]
  },
  {
   "attachments": {},
   "cell_type": "markdown",
   "metadata": {},
   "source": [
    "## We now want a new column with net rewards(revenue - transaction fees) to get a more accurate sense of the value of bitcoin rewards."
   ]
  },
  {
   "cell_type": "code",
   "execution_count": 128,
   "metadata": {},
   "outputs": [],
   "source": [
    "df['btc_rewards'] = df['btc_miners_revenue'] - df['btc_transaction_fees']\n"
   ]
  },
  {
   "attachments": {},
   "cell_type": "markdown",
   "metadata": {},
   "source": [
    "## Next we get the min,max and average of the factors we are interested in as well as their percentiles."
   ]
  },
  {
   "cell_type": "code",
   "execution_count": 129,
   "metadata": {},
   "outputs": [
    {
     "data": {
      "text/html": [
       "<div>\n",
       "<style scoped>\n",
       "    .dataframe tbody tr th:only-of-type {\n",
       "        vertical-align: middle;\n",
       "    }\n",
       "\n",
       "    .dataframe tbody tr th {\n",
       "        vertical-align: top;\n",
       "    }\n",
       "\n",
       "    .dataframe thead th {\n",
       "        text-align: right;\n",
       "    }\n",
       "</style>\n",
       "<table border=\"1\" class=\"dataframe\">\n",
       "  <thead>\n",
       "    <tr style=\"text-align: right;\">\n",
       "      <th></th>\n",
       "      <th>btc_market_price</th>\n",
       "      <th>btc_total_bitcoins</th>\n",
       "      <th>btc_difficulty</th>\n",
       "      <th>btc_rewards</th>\n",
       "      <th>btc_transaction_fees</th>\n",
       "      <th>btc_n_unique_addresses</th>\n",
       "    </tr>\n",
       "  </thead>\n",
       "  <tbody>\n",
       "    <tr>\n",
       "      <th>count</th>\n",
       "      <td>2920.000000</td>\n",
       "      <td>2.920000e+03</td>\n",
       "      <td>2.920000e+03</td>\n",
       "      <td>2.920000e+03</td>\n",
       "      <td>2920.000000</td>\n",
       "      <td>2.920000e+03</td>\n",
       "    </tr>\n",
       "    <tr>\n",
       "      <th>mean</th>\n",
       "      <td>897.485562</td>\n",
       "      <td>1.152051e+07</td>\n",
       "      <td>1.808140e+11</td>\n",
       "      <td>2.298055e+06</td>\n",
       "      <td>60.907496</td>\n",
       "      <td>1.959608e+05</td>\n",
       "    </tr>\n",
       "    <tr>\n",
       "      <th>std</th>\n",
       "      <td>2400.159935</td>\n",
       "      <td>4.200938e+06</td>\n",
       "      <td>4.305425e+11</td>\n",
       "      <td>5.809928e+06</td>\n",
       "      <td>117.430753</td>\n",
       "      <td>2.093837e+05</td>\n",
       "    </tr>\n",
       "    <tr>\n",
       "      <th>min</th>\n",
       "      <td>0.000000</td>\n",
       "      <td>2.110700e+06</td>\n",
       "      <td>2.527738e+00</td>\n",
       "      <td>-9.350000e+00</td>\n",
       "      <td>0.000000</td>\n",
       "      <td>1.100000e+02</td>\n",
       "    </tr>\n",
       "    <tr>\n",
       "      <th>25%</th>\n",
       "      <td>6.768750</td>\n",
       "      <td>8.405100e+06</td>\n",
       "      <td>1.617684e+06</td>\n",
       "      <td>4.767330e+04</td>\n",
       "      <td>9.723592</td>\n",
       "      <td>1.719000e+04</td>\n",
       "    </tr>\n",
       "    <tr>\n",
       "      <th>50%</th>\n",
       "      <td>236.310000</td>\n",
       "      <td>1.242910e+07</td>\n",
       "      <td>3.129573e+09</td>\n",
       "      <td>8.895322e+05</td>\n",
       "      <td>21.119445</td>\n",
       "      <td>1.325365e+05</td>\n",
       "    </tr>\n",
       "    <tr>\n",
       "      <th>75%</th>\n",
       "      <td>603.909050</td>\n",
       "      <td>1.523764e+07</td>\n",
       "      <td>1.584272e+11</td>\n",
       "      <td>1.865003e+06</td>\n",
       "      <td>50.778836</td>\n",
       "      <td>3.666370e+05</td>\n",
       "    </tr>\n",
       "    <tr>\n",
       "      <th>max</th>\n",
       "      <td>19498.683333</td>\n",
       "      <td>1.687682e+07</td>\n",
       "      <td>2.967853e+12</td>\n",
       "      <td>5.319105e+07</td>\n",
       "      <td>1495.946477</td>\n",
       "      <td>1.072861e+06</td>\n",
       "    </tr>\n",
       "  </tbody>\n",
       "</table>\n",
       "</div>"
      ],
      "text/plain": [
       "       btc_market_price  btc_total_bitcoins  btc_difficulty   btc_rewards  \\\n",
       "count       2920.000000        2.920000e+03    2.920000e+03  2.920000e+03   \n",
       "mean         897.485562        1.152051e+07    1.808140e+11  2.298055e+06   \n",
       "std         2400.159935        4.200938e+06    4.305425e+11  5.809928e+06   \n",
       "min            0.000000        2.110700e+06    2.527738e+00 -9.350000e+00   \n",
       "25%            6.768750        8.405100e+06    1.617684e+06  4.767330e+04   \n",
       "50%          236.310000        1.242910e+07    3.129573e+09  8.895322e+05   \n",
       "75%          603.909050        1.523764e+07    1.584272e+11  1.865003e+06   \n",
       "max        19498.683333        1.687682e+07    2.967853e+12  5.319105e+07   \n",
       "\n",
       "       btc_transaction_fees  btc_n_unique_addresses  \n",
       "count           2920.000000            2.920000e+03  \n",
       "mean              60.907496            1.959608e+05  \n",
       "std              117.430753            2.093837e+05  \n",
       "min                0.000000            1.100000e+02  \n",
       "25%                9.723592            1.719000e+04  \n",
       "50%               21.119445            1.325365e+05  \n",
       "75%               50.778836            3.666370e+05  \n",
       "max             1495.946477            1.072861e+06  "
      ]
     },
     "execution_count": 129,
     "metadata": {},
     "output_type": "execute_result"
    }
   ],
   "source": [
    "interest = [\"btc_market_price\",\"btc_total_bitcoins\", \"btc_difficulty\", \"btc_rewards\", \"btc_transaction_fees\", \"btc_n_unique_addresses\"]\n",
    "df2 = df[interest]\n",
    "df2.describe()"
   ]
  },
  {
   "attachments": {},
   "cell_type": "markdown",
   "metadata": {},
   "source": [
    "## Models\n",
    "\n",
    "First assign X and Y variables.\n",
    "\n",
    "X will be factors affecting price y."
   ]
  },
  {
   "cell_type": "code",
   "execution_count": 130,
   "metadata": {},
   "outputs": [],
   "source": [
    "models = pd.DataFrame(columns=[\"Model\",\"MAE\",\"MSE\",\"R2 Score\"])"
   ]
  },
  {
   "cell_type": "code",
   "execution_count": 131,
   "metadata": {},
   "outputs": [],
   "source": [
    "features = [\"btc_total_bitcoins\", \"btc_difficulty\", \"btc_rewards\", \"btc_transaction_fees\", \"btc_n_unique_addresses\"]\n",
    "X = df2[features]\n",
    "y = df2['btc_market_price']"
   ]
  },
  {
   "attachments": {},
   "cell_type": "markdown",
   "metadata": {},
   "source": [
    "## Split into training and testing sets."
   ]
  },
  {
   "cell_type": "code",
   "execution_count": 132,
   "metadata": {},
   "outputs": [],
   "source": [
    "from sklearn.model_selection import train_test_split,cross_val_score\n",
    "train_X, val_X, train_y, val_y = train_test_split(X, y, random_state=1)"
   ]
  },
  {
   "attachments": {},
   "cell_type": "markdown",
   "metadata": {},
   "source": [
    "## Evaluation Functions"
   ]
  },
  {
   "cell_type": "code",
   "execution_count": 133,
   "metadata": {},
   "outputs": [],
   "source": [
    "from sklearn.metrics import r2_score, mean_absolute_error, mean_squared_error\n",
    "import numpy as np\n",
    "\n",
    "    \n",
    "\n",
    "def evaluation(y, predictions):\n",
    "    mae = mean_absolute_error(y, predictions)\n",
    "    mse = mean_squared_error(y, predictions)\n",
    "    r_squared = r2_score(y, predictions)\n",
    "    return mae, mse, r_squared"
   ]
  },
  {
   "attachments": {},
   "cell_type": "markdown",
   "metadata": {},
   "source": [
    "## Predicting using Random Forest model"
   ]
  },
  {
   "cell_type": "code",
   "execution_count": 134,
   "metadata": {},
   "outputs": [
    {
     "name": "stdout",
     "output_type": "stream",
     "text": [
      "MAE: 40.797884255605254\n",
      "MSE: 27123.629462211407\n",
      "R2 Score: 0.9948207107012088\n",
      "------------------------------\n"
     ]
    }
   ],
   "source": [
    "from sklearn.ensemble import RandomForestRegressor\n",
    "from sklearn.metrics import mean_absolute_error\n",
    "rf_model = RandomForestRegressor(random_state=1)\n",
    "rf_model.fit(train_X, train_y)\n",
    "predictions = rf_model.predict(val_X)\n",
    "\n",
    "\n",
    "mae, mse,  r_squared = evaluation(val_y, predictions)\n",
    "print(\"MAE:\", mae)\n",
    "print(\"MSE:\", mse)\n",
    "print(\"R2 Score:\", r_squared)\n",
    "print(\"-\"*30)\n",
    "\n",
    "\n",
    "new_row = {\"Model\": \"Random Forest\",\"MAE\": mae, \"MSE\": mse, \"R2 Score\": r_squared}\n",
    "models = models.append(new_row, ignore_index=True)"
   ]
  },
  {
   "attachments": {},
   "cell_type": "markdown",
   "metadata": {},
   "source": [
    "## Predicting using Linear Regression model"
   ]
  },
  {
   "cell_type": "code",
   "execution_count": 135,
   "metadata": {},
   "outputs": [
    {
     "name": "stdout",
     "output_type": "stream",
     "text": [
      "MAE: 102.78371294326315\n",
      "MSE: 42175.75538455256\n",
      "R2 Score: 0.9919464893577028\n",
      "------------------------------\n"
     ]
    }
   ],
   "source": [
    "from sklearn.linear_model import LinearRegression\n",
    "\n",
    "linear = LinearRegression()  \n",
    "linear.fit(train_X, train_y)\n",
    "predictions = linear.predict(val_X)\n",
    "\n",
    "\n",
    "mae, mse, r_squared = evaluation(val_y, predictions)\n",
    "print(\"MAE:\", mae)\n",
    "print(\"MSE:\", mse)\n",
    "print(\"R2 Score:\", r_squared)\n",
    "print(\"-\"*30)\n",
    "\n",
    "\n",
    "new_row = {\"Model\": \"Linear Regression\",\"MAE\": mae, \"MSE\": mse, \"R2 Score\": r_squared}\n",
    "models = models.append(new_row, ignore_index=True)\n"
   ]
  },
  {
   "cell_type": "markdown",
   "metadata": {},
   "source": [
    "## Predicting using  Support Vector Machine model"
   ]
  },
  {
   "cell_type": "code",
   "execution_count": 136,
   "metadata": {},
   "outputs": [
    {
     "name": "stdout",
     "output_type": "stream",
     "text": [
      "MAE: 212.8991301382798\n",
      "MSE: 319859.50610158005\n",
      "R2 Score: 0.9389224469617324\n",
      "------------------------------\n"
     ]
    }
   ],
   "source": [
    "from sklearn.svm import SVR\n",
    "\n",
    "svr = SVR(C=100000)\n",
    "svr.fit(train_X, train_y)\n",
    "predictions = svr.predict(val_X)\n",
    "\n",
    "\n",
    "mae, mse, r_squared = evaluation(val_y, predictions)\n",
    "print(\"MAE:\", mae)\n",
    "print(\"MSE:\", mse)\n",
    "print(\"R2 Score:\", r_squared)\n",
    "print(\"-\"*30)\n",
    "\n",
    "\n",
    "new_row = {\"Model\": \"Support Vector Machine\",\"MAE\": mae, \"MSE\": mse, \"R2 Score\": r_squared}\n",
    "models = models.append(new_row, ignore_index=True)\n",
    "\n"
   ]
  },
  {
   "attachments": {},
   "cell_type": "markdown",
   "metadata": {},
   "source": [
    "## Predicting using  XGB Regressor model"
   ]
  },
  {
   "cell_type": "code",
   "execution_count": 137,
   "metadata": {},
   "outputs": [
    {
     "name": "stdout",
     "output_type": "stream",
     "text": [
      "MAE: 41.375879364631096\n",
      "MSE: 24968.40773365259\n",
      "R2 Score: 0.995232252853073\n",
      "------------------------------\n"
     ]
    }
   ],
   "source": [
    "from xgboost import XGBRegressor\n",
    "xgb = XGBRegressor(n_estimators=1000, learning_rate=0.01)\n",
    "xgb.fit(train_X, train_y)\n",
    "predictions= xgb.predict(val_X)\n",
    "\n",
    "mae, mse, r_squared = evaluation(val_y, predictions)\n",
    "print(\"MAE:\", mae)\n",
    "print(\"MSE:\", mse)\n",
    "print(\"R2 Score:\", r_squared)\n",
    "print(\"-\"*30)\n",
    "\n",
    "\n",
    "new_row = {\"Model\": \"XGB Regression\",\"MAE\": mae, \"MSE\": mse, \"R2 Score\": r_squared}\n",
    "models = models.append(new_row, ignore_index=True)\n"
   ]
  },
  {
   "attachments": {},
   "cell_type": "markdown",
   "metadata": {},
   "source": [
    "## Comparing Models"
   ]
  },
  {
   "cell_type": "code",
   "execution_count": 138,
   "metadata": {},
   "outputs": [
    {
     "data": {
      "text/html": [
       "<div>\n",
       "<style scoped>\n",
       "    .dataframe tbody tr th:only-of-type {\n",
       "        vertical-align: middle;\n",
       "    }\n",
       "\n",
       "    .dataframe tbody tr th {\n",
       "        vertical-align: top;\n",
       "    }\n",
       "\n",
       "    .dataframe thead th {\n",
       "        text-align: right;\n",
       "    }\n",
       "</style>\n",
       "<table border=\"1\" class=\"dataframe\">\n",
       "  <thead>\n",
       "    <tr style=\"text-align: right;\">\n",
       "      <th></th>\n",
       "      <th>Model</th>\n",
       "      <th>MAE</th>\n",
       "      <th>MSE</th>\n",
       "      <th>R2 Score</th>\n",
       "    </tr>\n",
       "  </thead>\n",
       "  <tbody>\n",
       "    <tr>\n",
       "      <th>0</th>\n",
       "      <td>Random Forest</td>\n",
       "      <td>40.797884</td>\n",
       "      <td>27123.629462</td>\n",
       "      <td>0.994821</td>\n",
       "    </tr>\n",
       "    <tr>\n",
       "      <th>3</th>\n",
       "      <td>XGB Regression</td>\n",
       "      <td>41.375879</td>\n",
       "      <td>24968.407734</td>\n",
       "      <td>0.995232</td>\n",
       "    </tr>\n",
       "    <tr>\n",
       "      <th>1</th>\n",
       "      <td>Linear Regression</td>\n",
       "      <td>102.783713</td>\n",
       "      <td>42175.755385</td>\n",
       "      <td>0.991946</td>\n",
       "    </tr>\n",
       "    <tr>\n",
       "      <th>2</th>\n",
       "      <td>Support Vector Machine</td>\n",
       "      <td>212.899130</td>\n",
       "      <td>319859.506102</td>\n",
       "      <td>0.938922</td>\n",
       "    </tr>\n",
       "  </tbody>\n",
       "</table>\n",
       "</div>"
      ],
      "text/plain": [
       "                    Model         MAE            MSE  R2 Score\n",
       "0           Random Forest   40.797884   27123.629462  0.994821\n",
       "3          XGB Regression   41.375879   24968.407734  0.995232\n",
       "1       Linear Regression  102.783713   42175.755385  0.991946\n",
       "2  Support Vector Machine  212.899130  319859.506102  0.938922"
      ]
     },
     "execution_count": 138,
     "metadata": {},
     "output_type": "execute_result"
    }
   ],
   "source": [
    "models = models.drop_duplicates()\n",
    "models.sort_values(by=\"MAE\")\n",
    "\n",
    "\n",
    "# print(models.unique())\n",
    "# from IPython.display import clear_output\n",
    "# clear_output(wait=True)\n",
    "# models.unique()"
   ]
  },
  {
   "cell_type": "code",
   "execution_count": 139,
   "metadata": {},
   "outputs": [
    {
     "data": {
      "image/png": "[encoded data removed]",
      "text/plain": [
       "<Figure size 864x576 with 1 Axes>"
      ]
     },
     "metadata": {
      "needs_background": "light"
     },
     "output_type": "display_data"
    }
   ],
   "source": [
    "import seaborn as sns\n",
    "import matplotlib.pyplot as plt\n",
    "plt.figure(figsize=(12,8))\n",
    "sns.barplot(x=models[\"Model\"], y=models[\"MAE\"])\n",
    "plt.title(\"Models' MAE\", size=15)\n",
    "plt.xticks(rotation=30, size=12)\n",
    "plt.show()"
   ]
  },
  {
   "attachments": {},
   "cell_type": "markdown",
   "metadata": {},
   "source": [
    "## Conclusion\n",
    "Our best price prediction model is the Random Forest Model, which is off by roughly $40(MAE of 40.7978).\n",
    "\n",
    "The XGB model is a close second, which is off by roughly $41 (MAE of MAE: 41.37587).\n",
    "\n",
    "I attempted to improve the random forest model by using variables and tuning hyperparameters, but this version produced the best results.\n",
    "\n",
    "A refined model with better-predicted values would impact the cryptocurrency world.\n",
    "The same model might be replicated in other industries, especially finance, and cause a ripple effect.\n",
    "\n",
    "My suggestion to future developers would be to improve this random forest model or combine it with others of similar efficiency, like the XGB model, to form an ensemble model.\n",
    "\n",
    "Industry experts implement an LSTM mode, an artificial recurrent neural network, to mitigate time series prediction problems like these.\n",
    "\n",
    "Another suggestion would be implementing the autoregressive integrated moving average(ARIMA) model.\n",
    "\n",
    "\n",
    "\n",
    "\n"
   ]
  }
 ],
 "metadata": {
  "kernelspec": {
   "display_name": "base",
   "language": "python",
   "name": "python3"
  },
  "language_info": {
   "codemirror_mode": {
    "name": "ipython",
    "version": 3
   },
   "file_extension": ".py",
   "mimetype": "text/x-python",
   "name": "python",
   "nbconvert_exporter": "python",
   "pygments_lexer": "ipython3",
   "version": "3.9.7"
  },
  "orig_nbformat": 4,
  "vscode": {
   "interpreter": {
    "hash": "623d2b1449816232213dd67ca4b2decd46844005dd9b91857ea828ab7f507aea"
   }
  }
 },
 "nbformat": 4,
 "nbformat_minor": 2
}
