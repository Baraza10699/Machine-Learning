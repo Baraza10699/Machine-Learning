{
 "cells": [
  {
   "cell_type": "markdown",
   "metadata": {},
   "source": [
    "## Bitcoin Price Prediction Model Using Random Forest"
   ]
  },
  {
   "cell_type": "markdown",
   "metadata": {},
   "source": [
    "Our goal in this project is to attempt to predict bitcoin prices using historical data.\n",
    "We will employ the use of decision trees to undertand how factors like supply and demand affected previous prices.\n",
    "Patterns detected will be used to inform our price prediction model.A dataset spanning from 2010-2017 will be used.\n",
    "This will provide enough data to identify and access patterns. Testing will be done by comoaring predicted values vs actual values."
   ]
  },
  {
   "cell_type": "code",
   "execution_count": 5,
   "metadata": {},
   "outputs": [
    {
     "data": {
      "text/plain": [
       "<bound method NDFrame.head of            Date  btc_market_price  btc_total_bitcoins  btc_market_cap  \\\n",
       "0    2010-02-23          0.000000           2110700.0    0.000000e+00   \n",
       "1    2010-02-24          0.000000           2120200.0    0.000000e+00   \n",
       "2    2010-02-25          0.000000           2127600.0    0.000000e+00   \n",
       "3    2010-02-26          0.000000           2136100.0    0.000000e+00   \n",
       "4    2010-02-27          0.000000           2144750.0    0.000000e+00   \n",
       "...         ...               ...                 ...             ...   \n",
       "2915 2018-02-16      10127.161667          16869150.0    1.708366e+11   \n",
       "2916 2018-02-17      10841.991667          16871012.5    1.829154e+11   \n",
       "2917 2018-02-18      10503.298333          16873037.5    1.772225e+11   \n",
       "2918 2018-02-19      11110.965000          16875062.5    1.874982e+11   \n",
       "2919 2018-02-20      11390.391667          16876825.0    1.922336e+11   \n",
       "\n",
       "      btc_trade_volume  btc_blocks_size  btc_avg_block_size  \\\n",
       "0         0.000000e+00         0.000000            0.000216   \n",
       "1         0.000000e+00         0.000000            0.000282   \n",
       "2         0.000000e+00         0.000000            0.000227   \n",
       "3         0.000000e+00         0.000000            0.000319   \n",
       "4         0.000000e+00         0.000000            0.000223   \n",
       "...                ...              ...                 ...   \n",
       "2915      8.665020e+08    157056.833478            0.989634   \n",
       "2916      9.735543e+08    157201.813038            0.973017   \n",
       "2917      1.377347e+09    157359.401239            0.972767   \n",
       "2918      1.020589e+09    157522.467859            1.006584   \n",
       "2919      1.258473e+09    157664.996336            1.010840   \n",
       "\n",
       "      btc_n_orphaned_blocks  btc_n_transactions_per_block  \\\n",
       "0                       0.0                      1.000000   \n",
       "1                       0.0                      1.000000   \n",
       "2                       0.0                      1.000000   \n",
       "3                       0.0                      1.000000   \n",
       "4                       0.0                      1.000000   \n",
       "...                     ...                           ...   \n",
       "2915                    0.0                   1195.783439   \n",
       "2916                    0.0                   1166.369128   \n",
       "2917                    0.0                    984.537037   \n",
       "2918                    0.0                   1156.586420   \n",
       "2919                    0.0                   1407.482270   \n",
       "\n",
       "      btc_median_confirmation_time  ...  btc_cost_per_transaction_percent  \\\n",
       "0                         0.000000  ...                      25100.000000   \n",
       "1                         0.000000  ...                        179.245283   \n",
       "2                         0.000000  ...                       1057.142857   \n",
       "3                         0.000000  ...                         64.582059   \n",
       "4                         0.000000  ...                       1922.222222   \n",
       "...                            ...  ...                               ...   \n",
       "2915                      6.616667  ...                          1.893340   \n",
       "2916                      7.933333  ...                          2.362525   \n",
       "2917                      6.966667  ...                          2.598018   \n",
       "2918                      8.416667  ...                          2.006207   \n",
       "2919                      8.466667  ...                          1.391617   \n",
       "\n",
       "      btc_cost_per_transaction  btc_n_unique_addresses  btc_n_transactions  \\\n",
       "0                     0.000000                   252.0               252.0   \n",
       "1                     0.000000                   195.0               196.0   \n",
       "2                     0.000000                   150.0               150.0   \n",
       "3                     0.000000                   176.0               176.0   \n",
       "4                     0.000000                   176.0               176.0   \n",
       "...                        ...                     ...                 ...   \n",
       "2915                109.005818                422415.0            187738.0   \n",
       "2916                119.228205                401860.0            173789.0   \n",
       "2917                136.289229                378869.0            159495.0   \n",
       "2918                123.102480                436341.0            187367.0   \n",
       "2919                104.157082                455116.0            198455.0   \n",
       "\n",
       "      btc_n_transactions_total  btc_n_transactions_excluding_popular  \\\n",
       "0                      42613.0                                 252.0   \n",
       "1                      42809.0                                 196.0   \n",
       "2                      42959.0                                 150.0   \n",
       "3                      43135.0                                 176.0   \n",
       "4                      43311.0                                 176.0   \n",
       "...                        ...                                   ...   \n",
       "2915               299857526.0                              180685.0   \n",
       "2916               300031315.0                              167847.0   \n",
       "2917               300190810.0                              153951.0   \n",
       "2918               300378177.0                              181922.0   \n",
       "2919               300576632.0                              191891.0   \n",
       "\n",
       "      btc_n_transactions_excluding_chains_longer_than_100  btc_output_volume  \\\n",
       "0                                                 252.0         1.260000e+04   \n",
       "1                                                 196.0         1.480000e+04   \n",
       "2                                                 150.0         8.100000e+03   \n",
       "3                                                 176.0         2.934900e+04   \n",
       "4                                                 176.0         9.101000e+03   \n",
       "...                                                 ...                  ...   \n",
       "2915                                           126413.0         1.102896e+06   \n",
       "2916                                           122775.0         1.473900e+06   \n",
       "2917                                           113528.0         1.639024e+06   \n",
       "2918                                           135051.0         1.789526e+06   \n",
       "2919                                           139951.0         1.268018e+06   \n",
       "\n",
       "      btc_estimated_transaction_volume  btc_estimated_transaction_volume_usd  \n",
       "0                            50.000000                          0.000000e+00  \n",
       "1                          5300.000000                          0.000000e+00  \n",
       "2                           700.000000                          0.000000e+00  \n",
       "3                         13162.000000                          0.000000e+00  \n",
       "4                           450.000000                          0.000000e+00  \n",
       "...                                ...                                   ...  \n",
       "2915                     106729.749001                          1.080869e+09  \n",
       "2916                      80893.896177                          8.770509e+08  \n",
       "2917                      79660.081975                          8.366936e+08  \n",
       "2918                     103474.270242                          1.149699e+09  \n",
       "2919                     130404.455959                          1.485358e+09  \n",
       "\n",
       "[2920 rows x 24 columns]>"
      ]
     },
     "execution_count": 5,
     "metadata": {},
     "output_type": "execute_result"
    }
   ],
   "source": [
    "import pandas as pd\n",
    "import os\n",
    "df = pd.read_csv(\"C:/Users/teddy/Downloads/Machine Learning/Final Project/bitcoin_dataset.csv\", parse_dates=['Date'])\n",
    "df.shape\n",
    "df.head"
   ]
  },
  {
   "cell_type": "markdown",
   "metadata": {},
   "source": [
    "# Factors affecting bitcoin price\n",
    "\n",
    "1.Number of available bitcoins.\n",
    "\n",
    "2.Difficulty to find new bitcoin.\n",
    "\n",
    "3.Number of unique bitcoin addresses.\n",
    "\n",
    "4.Value of bitcoin rewards."
   ]
  },
  {
   "cell_type": "markdown",
   "metadata": {},
   "source": [
    "## We now want a new column with net rewards(revenue - transaction fees) to get a more accurate sense of the value of bitcoin rewards."
   ]
  },
  {
   "cell_type": "code",
   "execution_count": 3,
   "metadata": {},
   "outputs": [],
   "source": [
    "df['btc_rewards'] = df['btc_miners_revenue'] - df['btc_transaction_fees']\n"
   ]
  },
  {
   "cell_type": "markdown",
   "metadata": {},
   "source": [
    "## Next we get the min,max and average of the factors we are interested in as well as their percentiles."
   ]
  },
  {
   "cell_type": "code",
   "execution_count": 4,
   "metadata": {},
   "outputs": [
    {
     "data": {
      "text/html": [
       "<div>\n",
       "<style scoped>\n",
       "    .dataframe tbody tr th:only-of-type {\n",
       "        vertical-align: middle;\n",
       "    }\n",
       "\n",
       "    .dataframe tbody tr th {\n",
       "        vertical-align: top;\n",
       "    }\n",
       "\n",
       "    .dataframe thead th {\n",
       "        text-align: right;\n",
       "    }\n",
       "</style>\n",
       "<table border=\"1\" class=\"dataframe\">\n",
       "  <thead>\n",
       "    <tr style=\"text-align: right;\">\n",
       "      <th></th>\n",
       "      <th>btc_market_price</th>\n",
       "      <th>btc_total_bitcoins</th>\n",
       "      <th>btc_difficulty</th>\n",
       "      <th>btc_rewards</th>\n",
       "      <th>btc_transaction_fees</th>\n",
       "      <th>btc_n_unique_addresses</th>\n",
       "    </tr>\n",
       "  </thead>\n",
       "  <tbody>\n",
       "    <tr>\n",
       "      <th>count</th>\n",
       "      <td>2920.000000</td>\n",
       "      <td>2.920000e+03</td>\n",
       "      <td>2.920000e+03</td>\n",
       "      <td>2.920000e+03</td>\n",
       "      <td>2920.000000</td>\n",
       "      <td>2.920000e+03</td>\n",
       "    </tr>\n",
       "    <tr>\n",
       "      <th>mean</th>\n",
       "      <td>897.485562</td>\n",
       "      <td>1.152051e+07</td>\n",
       "      <td>1.808140e+11</td>\n",
       "      <td>2.298055e+06</td>\n",
       "      <td>60.907496</td>\n",
       "      <td>1.959608e+05</td>\n",
       "    </tr>\n",
       "    <tr>\n",
       "      <th>std</th>\n",
       "      <td>2400.159935</td>\n",
       "      <td>4.200938e+06</td>\n",
       "      <td>4.305425e+11</td>\n",
       "      <td>5.809928e+06</td>\n",
       "      <td>117.430753</td>\n",
       "      <td>2.093837e+05</td>\n",
       "    </tr>\n",
       "    <tr>\n",
       "      <th>min</th>\n",
       "      <td>0.000000</td>\n",
       "      <td>2.110700e+06</td>\n",
       "      <td>2.527738e+00</td>\n",
       "      <td>-9.350000e+00</td>\n",
       "      <td>0.000000</td>\n",
       "      <td>1.100000e+02</td>\n",
       "    </tr>\n",
       "    <tr>\n",
       "      <th>25%</th>\n",
       "      <td>6.768750</td>\n",
       "      <td>8.405100e+06</td>\n",
       "      <td>1.617684e+06</td>\n",
       "      <td>4.767330e+04</td>\n",
       "      <td>9.723592</td>\n",
       "      <td>1.719000e+04</td>\n",
       "    </tr>\n",
       "    <tr>\n",
       "      <th>50%</th>\n",
       "      <td>236.310000</td>\n",
       "      <td>1.242910e+07</td>\n",
       "      <td>3.129573e+09</td>\n",
       "      <td>8.895322e+05</td>\n",
       "      <td>21.119445</td>\n",
       "      <td>1.325365e+05</td>\n",
       "    </tr>\n",
       "    <tr>\n",
       "      <th>75%</th>\n",
       "      <td>603.909050</td>\n",
       "      <td>1.523764e+07</td>\n",
       "      <td>1.584272e+11</td>\n",
       "      <td>1.865003e+06</td>\n",
       "      <td>50.778836</td>\n",
       "      <td>3.666370e+05</td>\n",
       "    </tr>\n",
       "    <tr>\n",
       "      <th>max</th>\n",
       "      <td>19498.683333</td>\n",
       "      <td>1.687682e+07</td>\n",
       "      <td>2.967853e+12</td>\n",
       "      <td>5.319105e+07</td>\n",
       "      <td>1495.946477</td>\n",
       "      <td>1.072861e+06</td>\n",
       "    </tr>\n",
       "  </tbody>\n",
       "</table>\n",
       "</div>"
      ],
      "text/plain": [
       "       btc_market_price  btc_total_bitcoins  btc_difficulty   btc_rewards  \\\n",
       "count       2920.000000        2.920000e+03    2.920000e+03  2.920000e+03   \n",
       "mean         897.485562        1.152051e+07    1.808140e+11  2.298055e+06   \n",
       "std         2400.159935        4.200938e+06    4.305425e+11  5.809928e+06   \n",
       "min            0.000000        2.110700e+06    2.527738e+00 -9.350000e+00   \n",
       "25%            6.768750        8.405100e+06    1.617684e+06  4.767330e+04   \n",
       "50%          236.310000        1.242910e+07    3.129573e+09  8.895322e+05   \n",
       "75%          603.909050        1.523764e+07    1.584272e+11  1.865003e+06   \n",
       "max        19498.683333        1.687682e+07    2.967853e+12  5.319105e+07   \n",
       "\n",
       "       btc_transaction_fees  btc_n_unique_addresses  \n",
       "count           2920.000000            2.920000e+03  \n",
       "mean              60.907496            1.959608e+05  \n",
       "std              117.430753            2.093837e+05  \n",
       "min                0.000000            1.100000e+02  \n",
       "25%                9.723592            1.719000e+04  \n",
       "50%               21.119445            1.325365e+05  \n",
       "75%               50.778836            3.666370e+05  \n",
       "max             1495.946477            1.072861e+06  "
      ]
     },
     "execution_count": 4,
     "metadata": {},
     "output_type": "execute_result"
    }
   ],
   "source": [
    "interest = [\"btc_market_price\",\"btc_total_bitcoins\", \"btc_difficulty\", \"btc_rewards\", \"btc_transaction_fees\", \"btc_n_unique_addresses\"]\n",
    "df2 = df[interest]\n",
    "df2.describe()"
   ]
  },
  {
   "cell_type": "markdown",
   "metadata": {},
   "source": [
    "## Random forest\n",
    "\n",
    "First assign X and Y variables.\n",
    "\n",
    "X will be factors affecting price y."
   ]
  },
  {
   "cell_type": "code",
   "execution_count": 5,
   "metadata": {},
   "outputs": [],
   "source": [
    "features = [\"btc_total_bitcoins\", \"btc_difficulty\", \"btc_rewards\", \"btc_transaction_fees\", \"btc_n_unique_addresses\"]\n",
    "X = df2[features]\n",
    "y = df2['btc_market_price']"
   ]
  },
  {
   "cell_type": "markdown",
   "metadata": {},
   "source": [
    "## Split into training and testing sets."
   ]
  },
  {
   "cell_type": "code",
   "execution_count": 6,
   "metadata": {},
   "outputs": [],
   "source": [
    "from sklearn.model_selection import train_test_split\n",
    "train_X, val_X, train_y, val_y = train_test_split(X, y, random_state=1)"
   ]
  },
  {
   "cell_type": "markdown",
   "metadata": {},
   "source": [
    "## Training the model"
   ]
  },
  {
   "cell_type": "code",
   "execution_count": 16,
   "metadata": {},
   "outputs": [
    {
     "data": {
      "text/html": [
       "<style>#sk-container-id-2 {color: black;background-color: white;}#sk-container-id-2 pre{padding: 0;}#sk-container-id-2 div.sk-toggleable {background-color: white;}#sk-container-id-2 label.sk-toggleable__label {cursor: pointer;display: block;width: 100%;margin-bottom: 0;padding: 0.3em;box-sizing: border-box;text-align: center;}#sk-container-id-2 label.sk-toggleable__label-arrow:before {content: \"▸\";float: left;margin-right: 0.25em;color: #696969;}#sk-container-id-2 label.sk-toggleable__label-arrow:hover:before {color: black;}#sk-container-id-2 div.sk-estimator:hover label.sk-toggleable__label-arrow:before {color: black;}#sk-container-id-2 div.sk-toggleable__content {max-height: 0;max-width: 0;overflow: hidden;text-align: left;background-color: #f0f8ff;}#sk-container-id-2 div.sk-toggleable__content pre {margin: 0.2em;color: black;border-radius: 0.25em;background-color: #f0f8ff;}#sk-container-id-2 input.sk-toggleable__control:checked~div.sk-toggleable__content {max-height: 200px;max-width: 100%;overflow: auto;}#sk-container-id-2 input.sk-toggleable__control:checked~label.sk-toggleable__label-arrow:before {content: \"▾\";}#sk-container-id-2 div.sk-estimator input.sk-toggleable__control:checked~label.sk-toggleable__label {background-color: #d4ebff;}#sk-container-id-2 div.sk-label input.sk-toggleable__control:checked~label.sk-toggleable__label {background-color: #d4ebff;}#sk-container-id-2 input.sk-hidden--visually {border: 0;clip: rect(1px 1px 1px 1px);clip: rect(1px, 1px, 1px, 1px);height: 1px;margin: -1px;overflow: hidden;padding: 0;position: absolute;width: 1px;}#sk-container-id-2 div.sk-estimator {font-family: monospace;background-color: #f0f8ff;border: 1px dotted black;border-radius: 0.25em;box-sizing: border-box;margin-bottom: 0.5em;}#sk-container-id-2 div.sk-estimator:hover {background-color: #d4ebff;}#sk-container-id-2 div.sk-parallel-item::after {content: \"\";width: 100%;border-bottom: 1px solid gray;flex-grow: 1;}#sk-container-id-2 div.sk-label:hover label.sk-toggleable__label {background-color: #d4ebff;}#sk-container-id-2 div.sk-serial::before {content: \"\";position: absolute;border-left: 1px solid gray;box-sizing: border-box;top: 0;bottom: 0;left: 50%;z-index: 0;}#sk-container-id-2 div.sk-serial {display: flex;flex-direction: column;align-items: center;background-color: white;padding-right: 0.2em;padding-left: 0.2em;position: relative;}#sk-container-id-2 div.sk-item {position: relative;z-index: 1;}#sk-container-id-2 div.sk-parallel {display: flex;align-items: stretch;justify-content: center;background-color: white;position: relative;}#sk-container-id-2 div.sk-item::before, #sk-container-id-2 div.sk-parallel-item::before {content: \"\";position: absolute;border-left: 1px solid gray;box-sizing: border-box;top: 0;bottom: 0;left: 50%;z-index: -1;}#sk-container-id-2 div.sk-parallel-item {display: flex;flex-direction: column;z-index: 1;position: relative;background-color: white;}#sk-container-id-2 div.sk-parallel-item:first-child::after {align-self: flex-end;width: 50%;}#sk-container-id-2 div.sk-parallel-item:last-child::after {align-self: flex-start;width: 50%;}#sk-container-id-2 div.sk-parallel-item:only-child::after {width: 0;}#sk-container-id-2 div.sk-dashed-wrapped {border: 1px dashed gray;margin: 0 0.4em 0.5em 0.4em;box-sizing: border-box;padding-bottom: 0.4em;background-color: white;}#sk-container-id-2 div.sk-label label {font-family: monospace;font-weight: bold;display: inline-block;line-height: 1.2em;}#sk-container-id-2 div.sk-label-container {text-align: center;}#sk-container-id-2 div.sk-container {/* jupyter's `normalize.less` sets `[hidden] { display: none; }` but bootstrap.min.css set `[hidden] { display: none !important; }` so we also need the `!important` here to be able to override the default hidden behavior on the sphinx rendered scikit-learn.org. See: https://github.com/scikit-learn/scikit-learn/issues/21755 */display: inline-block !important;position: relative;}#sk-container-id-2 div.sk-text-repr-fallback {display: none;}</style><div id=\"sk-container-id-2\" class=\"sk-top-container\"><div class=\"sk-text-repr-fallback\"><pre>RandomForestRegressor(random_state=1)</pre><b>In a Jupyter environment, please rerun this cell to show the HTML representation or trust the notebook. <br />On GitHub, the HTML representation is unable to render, please try loading this page with nbviewer.org.</b></div><div class=\"sk-container\" hidden><div class=\"sk-item\"><div class=\"sk-estimator sk-toggleable\"><input class=\"sk-toggleable__control sk-hidden--visually\" id=\"sk-estimator-id-2\" type=\"checkbox\" checked><label for=\"sk-estimator-id-2\" class=\"sk-toggleable__label sk-toggleable__label-arrow\">RandomForestRegressor</label><div class=\"sk-toggleable__content\"><pre>RandomForestRegressor(random_state=1)</pre></div></div></div></div></div>"
      ],
      "text/plain": [
       "RandomForestRegressor(random_state=1)"
      ]
     },
     "execution_count": 16,
     "metadata": {},
     "output_type": "execute_result"
    }
   ],
   "source": [
    "from sklearn.ensemble import RandomForestRegressor\n",
    "rf_model = RandomForestRegressor(random_state=1)\n",
    "rf_model.fit(train_X, train_y)"
   ]
  },
  {
   "attachments": {},
   "cell_type": "markdown",
   "metadata": {},
   "source": [
    "## Access predicted values"
   ]
  },
  {
   "cell_type": "code",
   "execution_count": 11,
   "metadata": {},
   "outputs": [
    {
     "name": "stdout",
     "output_type": "stream",
     "text": [
      "[ 8795.51528966  8891.20794066 10209.47662831 10910.93875166\n",
      "  9170.210025  ]\n"
     ]
    },
    {
     "data": {
      "text/plain": [
       "2915    10127.161667\n",
       "2916    10841.991667\n",
       "2917    10503.298333\n",
       "2918    11110.965000\n",
       "2919    11390.391667\n",
       "Name: btc_market_price, dtype: float64"
      ]
     },
     "execution_count": 11,
     "metadata": {},
     "output_type": "execute_result"
    }
   ],
   "source": [
    "\n",
    "print(rf_model.predict(X.tail()))\n",
    "df2['btc_market_price'].tail()"
   ]
  },
  {
   "cell_type": "markdown",
   "metadata": {},
   "source": [
    "## Using Mean Absolute Error to access our prediction model"
   ]
  },
  {
   "cell_type": "code",
   "execution_count": 13,
   "metadata": {},
   "outputs": [
    {
     "data": {
      "text/plain": [
       "40.797884255605254"
      ]
     },
     "execution_count": 13,
     "metadata": {},
     "output_type": "execute_result"
    }
   ],
   "source": [
    "from sklearn.metrics import mean_absolute_error\n",
    "rf_pred = rf_model.predict(val_X)\n",
    "rf_val_mae = mean_absolute_error(val_y,rf_pred)\n",
    "rf_val_mae"
   ]
  },
  {
   "cell_type": "markdown",
   "metadata": {},
   "source": [
    "## Our price prediction model is off by roughly $40.\n",
    "What remains is improving the accuarcy of our model.One approach being considered to do this is the application of a recurrent neural network."
   ]
  }
 ],
 "metadata": {
  "kernelspec": {
   "display_name": "Python 3.9.7 ('base')",
   "language": "python",
   "name": "python3"
  },
  "language_info": {
   "codemirror_mode": {
    "name": "ipython",
    "version": 3
   },
   "file_extension": ".py",
   "mimetype": "text/x-python",
   "name": "python",
   "nbconvert_exporter": "python",
   "pygments_lexer": "ipython3",
   "version": "3.9.7"
  },
  "orig_nbformat": 4,
  "vscode": {
   "interpreter": {
    "hash": "623d2b1449816232213dd67ca4b2decd46844005dd9b91857ea828ab7f507aea"
   }
  }
 },
 "nbformat": 4,
 "nbformat_minor": 2
}
